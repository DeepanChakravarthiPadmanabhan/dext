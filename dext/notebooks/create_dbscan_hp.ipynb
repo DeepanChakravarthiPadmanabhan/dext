{
 "cells": [
  {
   "cell_type": "code",
   "execution_count": 1,
   "id": "ca29f3d1",
   "metadata": {},
   "outputs": [],
   "source": [
    "import os\n",
    "import json\n",
    "import pickle\n",
    "import numpy as np\n",
    "import pandas as pd"
   ]
  },
  {
   "cell_type": "code",
   "execution_count": 2,
   "id": "973b337d",
   "metadata": {},
   "outputs": [],
   "source": [
    "files = ['misc_data/EFFICIENTDETD0_GuidedBackpropagation.txt', 'misc_data/EFFICIENTDETD0_IntegratedGradients.txt',\n",
    "         'misc_data/EFFICIENTDETD0_SmoothGrad_GuidedBackpropagation.txt']\n",
    "columns = ['image_index', 'object_index', 'class_name', \n",
    "           'class_confidence', 'coordinates', 'image_path',\n",
    "           'mp_4', 'mp_13', 'mp_50', 'mp_100', \n",
    "           'eps_4', 'eps_13', 'eps_50', 'eps_100']"
   ]
  },
  {
   "cell_type": "code",
   "execution_count": 3,
   "id": "8d2d182a",
   "metadata": {},
   "outputs": [
    {
     "name": "stderr",
     "output_type": "stream",
     "text": [
      "/media/deepan/externaldrive1/project_repos/paz_versions/paz_efficientdet/venv/lib/python3.6/site-packages/ipykernel_launcher.py:5: VisibleDeprecationWarning: Creating an ndarray from ragged nested sequences (which is a list-or-tuple of lists-or-tuples-or ndarrays with different lengths or shapes) is deprecated. If you meant to do this, you must specify 'dtype=object' when creating the ndarray\n",
      "  \"\"\"\n"
     ]
    }
   ],
   "source": [
    "all_model_method = dict()\n",
    "for i in files:\n",
    "    model_name = os.path.basename(i)\n",
    "    data = [json.loads(line) for line in open(i, 'r')]\n",
    "    data = np.array(data)\n",
    "    all_model_method[model_name.strip('.txt')] = data"
   ]
  },
  {
   "cell_type": "code",
   "execution_count": 4,
   "id": "357575b8",
   "metadata": {},
   "outputs": [
    {
     "data": {
      "text/plain": [
       "['EFFICIENTDETD0_GuidedBackpropagation',\n",
       " 'EFFICIENTDETD0_IntegratedGradients',\n",
       " 'EFFICIENTDETD0_SmoothGrad_GuidedBackpropagation']"
      ]
     },
     "execution_count": 4,
     "metadata": {},
     "output_type": "execute_result"
    }
   ],
   "source": [
    "list(all_model_method.keys())"
   ]
  },
  {
   "cell_type": "code",
   "execution_count": 5,
   "id": "dc9427c2",
   "metadata": {},
   "outputs": [],
   "source": [
    "all_information_list = list()\n",
    "for model_name, data in all_model_method.items():\n",
    "    all_information = dict()\n",
    "    all_information['name'] = model_name\n",
    "    classes = np.unique(data[:, columns.index('class_name')], return_counts=True)[0]\n",
    "    all_information['classes'] = list(classes)\n",
    "    eps_cols = [n for n, i in enumerate(columns) if 'eps' in i]\n",
    "    final_eps = []\n",
    "    example_images = []\n",
    "    for i in classes:\n",
    "        class_data_idx = np.where(data[:, columns.index('class_name')] == i)\n",
    "        class_data = data[class_data_idx[0], :]\n",
    "        class_eps = class_data[:, eps_cols].astype('float32')\n",
    "        mean_eps = np.mean(class_eps, axis=0)\n",
    "        final_eps.append(list(mean_eps))\n",
    "        example_images.append(list(class_data[:, columns.index('image_index')]))\n",
    "    all_information['eps'] = final_eps\n",
    "    all_information['example_images'] = example_images\n",
    "    all_information_list.append(all_information)"
   ]
  },
  {
   "cell_type": "code",
   "execution_count": 8,
   "id": "44fd01d4",
   "metadata": {},
   "outputs": [],
   "source": [
    "save_file_name = 'misc_data/dbscan_hp.pkl'\n",
    "with open(save_file_name, 'wb') as f:\n",
    "    pickle.dump(all_information_list, f)\n",
    "\n",
    "with open(save_file_name, 'rb') as f:\n",
    "    read_data = pickle.load(f)\n"
   ]
  },
  {
   "cell_type": "code",
   "execution_count": null,
   "id": "8703f0fb",
   "metadata": {},
   "outputs": [],
   "source": []
  }
 ],
 "metadata": {
  "kernelspec": {
   "display_name": "paz_efficientdet",
   "language": "python",
   "name": "paz_efficientdet"
  },
  "language_info": {
   "codemirror_mode": {
    "name": "ipython",
    "version": 3
   },
   "file_extension": ".py",
   "mimetype": "text/x-python",
   "name": "python",
   "nbconvert_exporter": "python",
   "pygments_lexer": "ipython3",
   "version": "3.6.9"
  }
 },
 "nbformat": 4,
 "nbformat_minor": 5
}
