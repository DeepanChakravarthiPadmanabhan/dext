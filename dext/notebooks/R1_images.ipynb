{
 "cells": [
  {
   "cell_type": "code",
   "execution_count": 1,
   "id": "f0a3ac1e",
   "metadata": {},
   "outputs": [],
   "source": [
    "import os\n",
    "import json\n",
    "import cv2\n",
    "import numpy as np\n",
    "import pandas as pd\n",
    "import matplotlib\n",
    "import matplotlib.pyplot as plt\n",
    "from IPython.display import display\n",
    "from scipy import ndimage\n",
    "from matplotlib.patches import Ellipse, Rectangle\n",
    "import matplotlib.colors as pltc\n",
    "from dext.postprocessing.detection_visualization import get_text_origin\n",
    "import colorsys\n",
    "import random\n",
    "\n",
    "SMALL_SIZE = 8\n",
    "MEDIUM_SIZE = 15\n",
    "BIGGER_SIZE = 20\n",
    "plt.rc('text', usetex=True)\n",
    "plt.rc('font', size=MEDIUM_SIZE) # controls default text sizes\n",
    "plt.rc('axes', titlesize=MEDIUM_SIZE, labelsize=MEDIUM_SIZE, linewidth=2) # fontsize of the axes title\n",
    "plt.rc('xtick', labelsize=MEDIUM_SIZE) # fontsize of the tick labels\n",
    "plt.rc('ytick', labelsize=MEDIUM_SIZE) # fontsize of the tick labels\n",
    "plt.rc('legend', fontsize=MEDIUM_SIZE) # legend fontsize\n",
    "plt.rc('figure', titlesize=BIGGER_SIZE) # fontsize of the figure title\n",
    "matplotlib.rcParams['text.latex.preamble'] = r'\\usepackage{sfmath} \\boldmath \\usepackage{bm} \\usepackage{amsmath}'"
   ]
  },
  {
   "cell_type": "code",
   "execution_count": 8,
   "id": "fc975cba",
   "metadata": {},
   "outputs": [],
   "source": [
    "result_dir = '/media/deepan/externaldrive1/project_repos/DEXT_versions/dext/images/results/EFFICIENTDETD0_IntegratedGradients'\n",
    "saliency_image_paths = 'saliency_image_paths'\n",
    "ap_curve_linspace = 100"
   ]
  },
  {
   "cell_type": "code",
   "execution_count": 9,
   "id": "4a669c43",
   "metadata": {},
   "outputs": [],
   "source": [
    "def get_history_file(result_dir, filename):\n",
    "    if os.path.exists(result_dir):\n",
    "        file = os.path.join(result_dir, filename)\n",
    "        if os.path.exists(file):\n",
    "            return file\n",
    "        else:\n",
    "            raise ValueError('File in directory unavailable') \n",
    "    else:\n",
    "        raise ValueError('Result directory unavailable')\n",
    "\n",
    "def get_image_index_counts(result_dir, filename):\n",
    "    file = get_history_file(result_dir, filename)\n",
    "    data = [json.loads(line) for line in open(file, 'r')]\n",
    "    data = np.array(data)\n",
    "    all_image_index = list(np.unique(data[:, 0]))\n",
    "    return len(all_image_index)\n",
    "\n",
    "def get_data(result_dir, filename):\n",
    "    file = get_history_file(result_dir, filename)\n",
    "    data = [json.loads(line) for line in open(file, 'r')]\n",
    "    return np.array(data)"
   ]
  },
  {
   "cell_type": "code",
   "execution_count": 10,
   "id": "acffb9bf",
   "metadata": {},
   "outputs": [
    {
     "name": "stdout",
     "output_type": "stream",
     "text": [
      "Model name: EFFICIENTDETD0 | Interpretation method: IntegratedGradients\n",
      "Number of saliency image paths:  3\n"
     ]
    },
    {
     "name": "stderr",
     "output_type": "stream",
     "text": [
      "/media/deepan/externaldrive1/project_repos/paz_versions/paz_efficientdet/venv/lib/python3.6/site-packages/ipykernel_launcher.py:14: VisibleDeprecationWarning: Creating an ndarray from ragged nested sequences (which is a list-or-tuple of lists-or-tuples-or ndarrays with different lengths or shapes) is deprecated. If you meant to do this, you must specify 'dtype=object' when creating the ndarray\n",
      "  \n",
      "/media/deepan/externaldrive1/project_repos/paz_versions/paz_efficientdet/venv/lib/python3.6/site-packages/ipykernel_launcher.py:21: VisibleDeprecationWarning: Creating an ndarray from ragged nested sequences (which is a list-or-tuple of lists-or-tuples-or ndarrays with different lengths or shapes) is deprecated. If you meant to do this, you must specify 'dtype=object' when creating the ndarray\n"
     ]
    }
   ],
   "source": [
    "model_saliency_paths = dict()\n",
    "model_name_interpretation = (result_dir.split('/')[-1])\n",
    "model_name = model_name_interpretation.split('_')[0]\n",
    "interpretation_method = model_name_interpretation.split('_')[1]\n",
    "print('Model name: %s | Interpretation method: %s' % (model_name, interpretation_method))\n",
    "print(\"Number of saliency image paths: \", get_image_index_counts(result_dir, saliency_image_paths))\n",
    "saliency_image_paths_data = get_data(result_dir, saliency_image_paths)"
   ]
  },
  {
   "cell_type": "code",
   "execution_count": 30,
   "id": "7a5ead2a",
   "metadata": {},
   "outputs": [
    {
     "data": {
      "text/plain": [
       "(array(['102731', '109741', '162701'], dtype=object), array([15, 25, 10]))"
      ]
     },
     "execution_count": 30,
     "metadata": {},
     "output_type": "execute_result"
    }
   ],
   "source": [
    "# Find unique image ids\n",
    "column_names = ['image_index', 'object_index', 'box', 'confidence', 'class', 'explaining',\n",
    "                'boxoffset', 'saliency_path', 'image_path']\n",
    "\n",
    "count_image_index = np.unique(saliency_image_paths_data[:, column_names.index('image_index')], return_counts=True)\n",
    "count_image_index"
   ]
  },
  {
   "cell_type": "code",
   "execution_count": 31,
   "id": "fc400f3a",
   "metadata": {},
   "outputs": [],
   "source": [
    "# Select image index to draw images\n",
    "data = saliency_image_paths_data[saliency_image_paths_data[:,column_names.index('image_index')] == '102731']"
   ]
  },
  {
   "cell_type": "code",
   "execution_count": null,
   "id": "7fe83780",
   "metadata": {},
   "outputs": [],
   "source": [
    "def get_heatmaps(data):\n",
    "    class_maps = []\n",
    "    box_maps1 = []\n",
    "    box_maps2 = []\n",
    "    box_maps3 = []\n",
    "    box_maps4 = []\n",
    "    class_maps_boxes = []\n",
    "    box_maps1_boxes = []\n",
    "    box_maps2_boxes = []\n",
    "    box_maps3_boxes = []\n",
    "    box_maps4_boxes = []\n",
    "    labels = []\n",
    "    for i in data:\n",
    "        if i[5] == 'Classification':\n",
    "            file_path = i[-2]\n",
    "            file_path = file_path.replace('/scratch/dpadma2s/thesis/results/', \n",
    "                                          '/media/deepan/externaldrive1/project_repos/DEXT_versions/other_reports/')\n",
    "            class_maps.append(np.load(file_path))\n",
    "            class_maps_boxes.append(i[2])\n",
    "            labels.append(i[4])\n",
    "        elif i[5] == 'Boxoffset' and i[6] == 0:\n",
    "            file_path = i[-2]\n",
    "            file_path = file_path.replace('/scratch/dpadma2s/thesis/results/', \n",
    "                                          '/media/deepan/externaldrive1/project_repos/DEXT_versions/other_reports/')\n",
    "            box_maps1.append(np.load(file_path))\n",
    "            box_maps1_boxes.append(i[2])\n",
    "        elif i[5] == 'Boxoffset' and i[6] == 1:\n",
    "            file_path = i[-2]\n",
    "            file_path = file_path.replace('/scratch/dpadma2s/thesis/results/', \n",
    "                                          '/media/deepan/externaldrive1/project_repos/DEXT_versions/other_reports/')\n",
    "            box_maps2.append(np.load(file_path))\n",
    "            box_maps2_boxes.append(i[2])\n",
    "        elif i[5] == 'Boxoffset' and i[6] == 2:\n",
    "            file_path = i[-2]\n",
    "            file_path = file_path.replace('/scratch/dpadma2s/thesis/results/', \n",
    "                                          '/media/deepan/externaldrive1/project_repos/DEXT_versions/other_reports/')\n",
    "            box_maps3.append(np.load(file_path))\n",
    "            box_maps3_boxes.append(i[2])\n",
    "        elif i[5] == 'Boxoffset' and i[6] == 3:\n",
    "            file_path = i[-2]\n",
    "            file_path = file_path.replace('/scratch/dpadma2s/thesis/results/', \n",
    "                                          '/media/deepan/externaldrive1/project_repos/DEXT_versions/other_reports/')\n",
    "            box_maps4.append(np.load(file_path))\n",
    "            box_maps4_boxes.append(i[2])\n",
    "    return (class_maps, class_maps_boxes, box_maps1, box_maps1_boxes, box_maps2, box_maps2_boxes, \n",
    "            box_maps3, box_maps3_boxes, box_maps4, box_maps4_boxes, labels)"
   ]
  },
  {
   "cell_type": "code",
   "execution_count": null,
   "id": "4dff4bc4",
   "metadata": {},
   "outputs": [],
   "source": [
    "(class_maps, class_maps_boxes, box_maps1, box_maps1_boxes, box_maps2, box_maps2_boxes,\n",
    " box_maps3, box_maps3_boxes, box_maps4, box_maps4_boxes, labels) = get_heatmaps(data)"
   ]
  }
 ],
 "metadata": {
  "kernelspec": {
   "display_name": "paz_dext",
   "language": "python",
   "name": "paz_dext"
  },
  "language_info": {
   "codemirror_mode": {
    "name": "ipython",
    "version": 3
   },
   "file_extension": ".py",
   "mimetype": "text/x-python",
   "name": "python",
   "nbconvert_exporter": "python",
   "pygments_lexer": "ipython3",
   "version": "3.6.9"
  }
 },
 "nbformat": 4,
 "nbformat_minor": 5
}
