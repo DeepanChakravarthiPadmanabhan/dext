{
 "cells": [
  {
   "cell_type": "code",
   "execution_count": 3,
   "id": "b446f8d8",
   "metadata": {},
   "outputs": [],
   "source": [
    "import numpy as np\n",
    "import os\n",
    "import json"
   ]
  },
  {
   "cell_type": "code",
   "execution_count": 4,
   "id": "c394919a",
   "metadata": {},
   "outputs": [
    {
     "name": "stdout",
     "output_type": "stream",
     "text": [
      "50\n"
     ]
    },
    {
     "name": "stderr",
     "output_type": "stream",
     "text": [
      "/media/deepan/externaldrive1/project_repos/paz_versions/paz_efficientdet/venv/lib/python3.6/site-packages/ipykernel_launcher.py:10: VisibleDeprecationWarning: Creating an ndarray from ragged nested sequences (which is a list-or-tuple of lists-or-tuples-or ndarrays with different lengths or shapes) is deprecated. If you meant to do this, you must specify 'dtype=object' when creating the ndarray\n",
      "  # Remove the CWD from sys.path while we load stuff.\n"
     ]
    }
   ],
   "source": [
    "results_dir = '/media/deepan/externaldrive1/project_repos/DEXT_versions/other_reports/'\n",
    "if os.path.exists(results_dir):\n",
    "    file = os.path.join(results_dir, 'saliency_image_paths')\n",
    "    if not os.path.exists(file):\n",
    "        raise ValueError('File in directory unavailable') \n",
    "else:\n",
    "    raise ValueError('Result directory unavailable')\n",
    "    \n",
    "data = [json.loads(line) for line in open(file, 'r')]\n",
    "data = np.array(data)\n",
    "all_image_index = list(np.unique(data[:, 0]))\n",
    "print(len(all_image_index))\n",
    "    "
   ]
  },
  {
   "cell_type": "code",
   "execution_count": null,
   "id": "de23433a",
   "metadata": {},
   "outputs": [],
   "source": []
  }
 ],
 "metadata": {
  "kernelspec": {
   "display_name": "paz_dext",
   "language": "python",
   "name": "paz_dext"
  },
  "language_info": {
   "codemirror_mode": {
    "name": "ipython",
    "version": 3
   },
   "file_extension": ".py",
   "mimetype": "text/x-python",
   "name": "python",
   "nbconvert_exporter": "python",
   "pygments_lexer": "ipython3",
   "version": "3.6.9"
  }
 },
 "nbformat": 4,
 "nbformat_minor": 5
}
