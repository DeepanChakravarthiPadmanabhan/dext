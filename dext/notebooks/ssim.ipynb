{
 "cells": [
  {
   "cell_type": "code",
   "execution_count": 1,
   "id": "d7755356",
   "metadata": {},
   "outputs": [],
   "source": [
    "import os\n",
    "import json\n",
    "import cv2\n",
    "import numpy as np\n",
    "import pandas as pd\n",
    "import matplotlib\n",
    "import matplotlib.pyplot as plt\n",
    "from IPython.display import display\n",
    "from scipy import ndimage\n",
    "from matplotlib.patches import Ellipse, Rectangle\n",
    "import matplotlib.colors as pltc\n",
    "from dext.postprocessing.detection_visualization import get_text_origin\n",
    "import colorsys\n",
    "import random\n",
    "from matplotlib import gridspec\n",
    "\n",
    "SMALL_SIZE = 8\n",
    "MEDIUM_SIZE = 15\n",
    "BIGGER_SIZE = 20\n",
    "plt.rc('text', usetex=True)\n",
    "plt.rc('font', size=MEDIUM_SIZE) # controls default text sizes\n",
    "plt.rc('axes', titlesize=MEDIUM_SIZE, labelsize=MEDIUM_SIZE, linewidth=2) # fontsize of the axes title\n",
    "plt.rc('xtick', labelsize=MEDIUM_SIZE) # fontsize of the tick labels\n",
    "plt.rc('ytick', labelsize=MEDIUM_SIZE) # fontsize of the tick labels\n",
    "plt.rc('legend', fontsize=MEDIUM_SIZE) # legend fontsize\n",
    "plt.rc('figure', titlesize=BIGGER_SIZE) # fontsize of the figure title\n",
    "matplotlib.rcParams['text.latex.preamble'] = r'\\usepackage{sfmath} \\boldmath \\usepackage{bm} \\usepackage{amsmath}'"
   ]
  },
  {
   "cell_type": "code",
   "execution_count": null,
   "id": "2bf00ed6",
   "metadata": {},
   "outputs": [],
   "source": []
  }
 ],
 "metadata": {
  "kernelspec": {
   "display_name": "paz_dext",
   "language": "python",
   "name": "paz_dext"
  },
  "language_info": {
   "codemirror_mode": {
    "name": "ipython",
    "version": 3
   },
   "file_extension": ".py",
   "mimetype": "text/x-python",
   "name": "python",
   "nbconvert_exporter": "python",
   "pygments_lexer": "ipython3",
   "version": "3.6.9"
  }
 },
 "nbformat": 4,
 "nbformat_minor": 5
}
