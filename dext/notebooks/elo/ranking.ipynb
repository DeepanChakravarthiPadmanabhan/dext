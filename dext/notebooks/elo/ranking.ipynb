{
 "cells": [
  {
   "cell_type": "code",
   "execution_count": 9,
   "metadata": {},
   "outputs": [],
   "source": [
    "import os\n",
    "import json\n",
    "import cv2\n",
    "import numpy as np\n",
    "import pandas as pd\n",
    "import matplotlib\n",
    "import matplotlib.pyplot as plt\n",
    "from IPython.display import display\n",
    "from scipy import ndimage\n",
    "from matplotlib.patches import Ellipse, Rectangle\n",
    "import matplotlib.colors as pltc\n",
    "from dext.postprocessing.detection_visualization import get_text_origin\n",
    "import colorsys\n",
    "import random\n",
    "from matplotlib import gridspec\n",
    "import pickle\n",
    "from elo import Elo\n",
    "\n",
    "SMALL_SIZE = 8\n",
    "MEDIUM_SIZE = 15\n",
    "BIGGER_SIZE = 20\n",
    "plt.rc('text', usetex=True)\n",
    "plt.rc('font', size=MEDIUM_SIZE) # controls default text sizes\n",
    "plt.rc('axes', titlesize=MEDIUM_SIZE, labelsize=MEDIUM_SIZE, linewidth=2) # fontsize of the axes title\n",
    "plt.rc('xtick', labelsize=MEDIUM_SIZE) # fontsize of the tick labels\n",
    "plt.rc('ytick', labelsize=MEDIUM_SIZE) # fontsize of the tick labels\n",
    "plt.rc('legend', fontsize=MEDIUM_SIZE) # legend fontsize\n",
    "plt.rc('figure', titlesize=BIGGER_SIZE) # fontsize of the figure title\n",
    "matplotlib.rcParams['text.latex.preamble'] = r'\\usepackage{sfmath} \\boldmath \\usepackage{bm} \\usepackage{amsmath}'"
   ]
  },
  {
   "cell_type": "code",
   "execution_count": 2,
   "metadata": {},
   "outputs": [],
   "source": [
    "result_file = '/home/deepan/Downloads/dexttrustanalysis-default-rtdb-export.json'\n",
    "\n",
    "type_1_values = {\"Robot A explanation is \\\"much better\\\"\": 2,\n",
    "                 \"Robot A explanation is \\\"slightly better\\\"\": 1,\n",
    "                 \"Both explanations are \\\"same\\\"\": 0,\n",
    "                 \"Robot A explanation is \\\"slightly worse\\\"\": -1, \n",
    "                 \"Robot A explanation is \\\"much worse\\\"\": -2}"
   ]
  },
  {
   "cell_type": "code",
   "execution_count": 3,
   "metadata": {},
   "outputs": [],
   "source": [
    "with open(result_file) as json_file:\n",
    "    data = json.load(json_file)\n",
    "    \n",
    "with open('questions.pkl', 'rb') as f:\n",
    "    all_questions = pickle.load(f)"
   ]
  },
  {
   "cell_type": "code",
   "execution_count": 105,
   "metadata": {},
   "outputs": [
    {
     "name": "stdout",
     "output_type": "stream",
     "text": [
      "[[46, 0, 0], [62, 0, 0], [26, 0, 0], [11, 0, 0], [88, 2, -2], [56, -1, 1], [48, -1, 1], [16, 2, -2], [58, 2, -2], [55, 0, 0]] [[123, 'Method 4'], [108, 'Method 4'], [105, 'Method 4'], [115, 'Method 4'], [113, 'Method 4']]\n"
     ]
    }
   ],
   "source": [
    "model_answers = []\n",
    "mov_answers = []\n",
    "for user_id, full_answer in data['dexttrustanalysis-default-rtdb']['single_answer:'].items():\n",
    "    q_id = list(full_answer.keys())[0]\n",
    "    answer = full_answer[q_id]\n",
    "    q_id = int(q_id)\n",
    "    if q_id <= 100:\n",
    "        model_answers.append([q_id, type_1_values[answer], type_1_values[answer] * (-1)])\n",
    "    if q_id > 100:\n",
    "        mov_answers.append([q_id, answer])\n",
    "print(model_answers, mov_answers)    "
   ]
  },
  {
   "cell_type": "code",
   "execution_count": 15,
   "metadata": {},
   "outputs": [],
   "source": [
    "model_answers = np.array(model_answers)\n",
    "# mov_answers = np.array(mov_answers)"
   ]
  },
  {
   "cell_type": "code",
   "execution_count": 23,
   "metadata": {},
   "outputs": [],
   "source": [
    "methods_asked_in_model_questions = []\n",
    "for i in all_questions[:100]:\n",
    "    method_1 = i['images'][1].replace('trust_analysis/', '').split('_', 1)[1].split('/')[0]\n",
    "    method_2 = i['images'][-1].replace('trust_analysis/', '').split('_', 1)[1].split('/')[0]\n",
    "    assert method_1 != method_2\n",
    "    methods_asked_in_model_questions.append([i['unique_id'], method_1, method_2])\n",
    "methods_asked_in_model_questions = np.array(methods_asked_in_model_questions)"
   ]
  },
  {
   "cell_type": "code",
   "execution_count": 24,
   "metadata": {},
   "outputs": [
    {
     "data": {
      "text/plain": [
       "(990.0031046517942, 990.7888496681344, 989.8647802759169)"
      ]
     },
     "execution_count": 24,
     "metadata": {},
     "output_type": "execute_result"
    }
   ],
   "source": [
    "elo = Elo(10)\n",
    "# Simple example\n",
    "m1 = 1000\n",
    "m2 = 1000\n",
    "m3 = 1000\n",
    "elo.expect(m1, m2)\n",
    "# M1 wins M2\n",
    "m1 = elo.rate(m1, [(2, m2)])\n",
    "m2 = elo.rate(m2, [(-2, m1)])\n",
    "# M3 wins M1\n",
    "m3 = elo.rate(m3, [(2, m1)])\n",
    "m1 = elo.rate(m1, [(-2, m3)])\n",
    "# M2 wins M3\n",
    "m2 = elo.rate(m2, [(2, m3)])\n",
    "m3 = elo.rate(m3, [(-2, m2)])\n",
    "m1, m2, m3\n",
    "# Above example makes sense -- Therefore, proceeding to calculate rankings\n",
    "# Reference: https://github.com/sublee/elo/"
   ]
  },
  {
   "cell_type": "code",
   "execution_count": 38,
   "metadata": {},
   "outputs": [
    {
     "name": "stdout",
     "output_type": "stream",
     "text": [
      "SmoothGrad_IntegratedGradients IntegratedGradients 46 0 0\n",
      "GuidedBackpropagation IntegratedGradients 62 0 0\n",
      "SmoothGrad_IntegratedGradients IntegratedGradients 26 0 0\n",
      "IntegratedGradients GuidedBackpropagation 11 0 0\n",
      "GuidedBackpropagation IntegratedGradients 88 2 -2\n",
      "IntegratedGradients GuidedBackpropagation 56 -1 1\n",
      "SmoothGrad_IntegratedGradients IntegratedGradients 48 -1 1\n",
      "SmoothGrad_IntegratedGradients IntegratedGradients 16 2 -2\n",
      "SmoothGrad_IntegratedGradients GuidedBackpropagation 58 2 -2\n",
      "IntegratedGradients GuidedBackpropagation 55 0 0\n",
      "{'GuidedBackpropagation': 977.6740792481462, 'SmoothGrad_GuidedBackpropagation': 1000, 'IntegratedGradients': 918.0808274696103, 'SmoothGrad_IntegratedGradients': 1004.1177381087729}\n"
     ]
    }
   ],
   "source": [
    "ratings = {'GuidedBackpropagation':1000, 'SmoothGrad_GuidedBackpropagation': 1000,\n",
    "           'IntegratedGradients':1000, 'SmoothGrad_IntegratedGradients': 1000}\n",
    "for answer in model_answers:\n",
    "    method_1 = methods_asked_in_model_questions[answer[0] - 1][1]\n",
    "    method_2 = methods_asked_in_model_questions[answer[0] - 1][2]\n",
    "    print(method_1, method_2, answer[0], answer[1], answer[2])\n",
    "    ratings[method_1] = elo.rate(ratings[method_1], [(answer[1], ratings[method_2])])\n",
    "    ratings[method_2] = elo.rate(ratings[method_2], [(answer[2], ratings[method_1])])\n",
    "print(ratings)"
   ]
  },
  {
   "cell_type": "code",
   "execution_count": 65,
   "metadata": {},
   "outputs": [
    {
     "name": "stdout",
     "output_type": "stream",
     "text": [
      "['\\\\textbf{SIG}' '\\\\textbf{SGBP}' '\\\\textbf{GBP}' '\\\\textbf{IG}'] [1004.11773811 1000.          977.67407925  918.08082747]\n"
     ]
    }
   ],
   "source": [
    "method_names = np.array([r'\\textbf{GBP}', r'\\textbf{SGBP}', \n",
    "                         r'\\textbf{IG}', r'\\textbf{SIG}'])\n",
    "method_ratings = np.array([ratings['GuidedBackpropagation'], \n",
    "                           ratings['SmoothGrad_GuidedBackpropagation'], \n",
    "                           ratings['IntegratedGradients'], \n",
    "                           ratings['SmoothGrad_IntegratedGradients']])\n",
    "order = np.argsort(method_ratings)[::-1]\n",
    "ranked_ratings = method_ratings[order]\n",
    "ranked_names = method_names[order]\n",
    "print(ranked_names, ranked_ratings)"
   ]
  },
  {
   "cell_type": "code",
   "execution_count": 109,
   "metadata": {},
   "outputs": [
    {
     "data": {
      "image/png": "[encoded data removed]",
      "text/plain": [
       "<Figure size 432x360 with 1 Axes>"
      ]
     },
     "metadata": {
      "needs_background": "light"
     },
     "output_type": "display_data"
    }
   ],
   "source": [
    "fig, ax = plt.subplots(figsize=(6, 5))\n",
    "bars = ax.bar(height=method_ratings, x=method_names, color='blue', alpha=0.6, capsize=10)\n",
    "ax.set_xlabel(r'\\textbf{Explanation Methods}', fontdict={'size':18}, fontweight='bold')\n",
    "ax.set_ylabel(r'\\textbf{ELO Rating}', fontdict={'size':18}, fontweight='bold')\n",
    "ax.set_title(r'\\textbf{%s}' % 'Explanation Methods Trust Analysis Rankings')\n",
    "ax.grid('on')\n",
    "ax.set_ylim([0, 1100])\n",
    "for i, bar in enumerate(bars):\n",
    "    yval = bar.get_height()\n",
    "    plt.text(bar.get_x() + 0.37, yval + 10,  # change constant to place text on top of bar\n",
    "             r'\\textbf{%s}' % str(1 + np.where(method_names[i] == ranked_names)[0][0]))\n",
    "plt.savefig('methods_rank.pdf', dpi=300)"
   ]
  },
  {
   "cell_type": "code",
   "execution_count": 133,
   "metadata": {},
   "outputs": [
    {
     "name": "stdout",
     "output_type": "stream",
     "text": [
      "['Method 1' 'Method 2' 'Method 3' 'Method 4'] [2 3 2 5]\n",
      "['Method 4' 'Method 2' 'Method 3' 'Method 1']\n"
     ]
    }
   ],
   "source": [
    "# Analyzing mov answers\n",
    "# mov_answers.append([122, 'Method 2'])\n",
    "# mov_answers.append([122, 'Method 1'])\n",
    "# mov_answers.append([122, 'Method 3'])\n",
    "# mov_answers.append([122, 'Method 2'])\n",
    "# mov_answers.append([122, 'Method 2'])\n",
    "# mov_answers.append([122, 'Method 3'])\n",
    "# mov_answers.append([122, 'Method 1'])\n",
    "# mov_answers = np.array(mov_answers)\n",
    "mov_method_names = np.array([r'\\textbf{%s}' % 'Method 1', r'\\textbf{Method 2}', \n",
    "                             r'\\textbf{%s}' % 'Method 3', \n",
    "                             r'\\textbf{%s}' % 'Method 4'])\n",
    "mov_method_name, mov_method_counts = np.unique(mov_answers[:, 1], return_counts=True)\n",
    "print(mov_method_name, mov_method_counts)\n",
    "for n, i in enumerate(mov_method_name):\n",
    "    name = int(i.replace('Method ', ''))\n",
    "    assert name == n + 1  \n",
    "\n",
    "mov_order = np.argsort(mov_method_counts)[::-1]\n",
    "rank_mov_method = mov_method_name[mov_order]\n",
    "print(rank_mov_method)"
   ]
  },
  {
   "cell_type": "code",
   "execution_count": 136,
   "metadata": {},
   "outputs": [
    {
     "data": {
      "image/png": "[encoded data removed]",
      "text/plain": [
       "<Figure size 432x360 with 1 Axes>"
      ]
     },
     "metadata": {
      "needs_background": "light"
     },
     "output_type": "display_data"
    }
   ],
   "source": [
    "fig, ax = plt.subplots(figsize=(6, 5))\n",
    "bars = ax.bar(height=mov_method_counts, x=mov_method_names, color='blue', alpha=0.6, capsize=10)\n",
    "ax.set_xlabel(r'\\textbf{Visualization Methods}', fontdict={'size':18}, fontweight='bold')\n",
    "ax.set_ylabel(r'\\textbf{Number of Votes}', fontdict={'size':18}, fontweight='bold')\n",
    "ax.set_title(r'\\textbf{%s}' % 'Mult-object Visualization Methods Understandability Rankings')\n",
    "ax.grid('on')\n",
    "for i, bar in enumerate(bars):\n",
    "    yval = bar.get_height()\n",
    "    plt.text(bar.get_x() + 0.37, yval + 0.025,  # change constant to place text on top of bar\n",
    "             r'\\textbf{%s}' % str(1 + np.where(mov_method_name[i] == rank_mov_method)[0][0]))\n",
    "plt.savefig('mov_rank.pdf', dpi=300)"
   ]
  },
  {
   "cell_type": "code",
   "execution_count": null,
   "metadata": {},
   "outputs": [],
   "source": []
  }
 ],
 "metadata": {
  "kernelspec": {
   "display_name": "paz_efficientdet",
   "language": "python",
   "name": "paz_efficientdet"
  },
  "language_info": {
   "codemirror_mode": {
    "name": "ipython",
    "version": 3
   },
   "file_extension": ".py",
   "mimetype": "text/x-python",
   "name": "python",
   "nbconvert_exporter": "python",
   "pygments_lexer": "ipython3",
   "version": "3.6.9"
  }
 },
 "nbformat": 4,
 "nbformat_minor": 4
}
